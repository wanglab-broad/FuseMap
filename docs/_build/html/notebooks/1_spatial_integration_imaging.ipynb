{
 "cells": [
  {
   "cell_type": "markdown",
   "metadata": {},
   "source": [
    "# FuseMap Tutorial I: Integrating Spatial Transcriptomics Data Across Image-based Technologies\n",
    "\n",
    "In this tutorial, we'll demonstrate how to use FuseMap to integrate spatial transcriptomics data from different imaging-based technologies (e.g., MERFISH and STARmap). We'll walk through the process step by step, explaining each component in detail.\n"
   ]
  },
  {
   "cell_type": "markdown",
   "metadata": {},
   "source": [
    "## 1. Data preparation\n",
    "\n",
    "We use spatial mouse brain atlases acquired using MERFISH and STARmap as example datasets. The data can be downloaded from:\n",
    "\n",
    "- MERFISH data: Zhang et al. ([Nature paper](https://www.nature.com/articles/s41586-023-06808-9#data-availability))\n",
    "- STARmap data: Shi et al. ([Nature paper](https://www.nature.com/articles/s41586-023-06569-5#data-availability))"
   ]
  },
  {
   "cell_type": "code",
   "execution_count": 1,
   "metadata": {},
   "outputs": [],
   "source": [
    "import warnings\n",
    "warnings.filterwarnings(\"ignore\")"
   ]
  },
  {
   "cell_type": "code",
   "execution_count": 2,
   "metadata": {},
   "outputs": [],
   "source": [
    "import os\n",
    "import scanpy as sc\n",
    "from easydict import EasyDict as edict\n",
    "from fusemap import seed_all, spatial_integrate, ModelType, setup_logging\n",
    "import logging\n",
    "import pandas as pd\n",
    "seed_all(0)"
   ]
  },
  {
   "cell_type": "markdown",
   "metadata": {},
   "source": [
    "We recommend users to use the following default hyperparameters, but users can adjust according to their requirements."
   ]
  },
  {
   "cell_type": "markdown",
   "metadata": {},
   "source": [
    "## 2. Data preprocessing"
   ]
  },
  {
   "cell_type": "code",
   "execution_count": 3,
   "metadata": {},
   "outputs": [],
   "source": [
    "# set paths to data\n",
    "data_dir_list = [\n",
    "    '/Users/mingzeyuan/Workspace/FuseMap/data/merfish.h5ad',\n",
    "    '/Users/mingzeyuan/Workspace/FuseMap/data/starmap.h5ad'\n",
    "]\n",
    "output_dir = '/Users/mingzeyuan/Workspace/FuseMap/output/integrate_merfish_starmap'\n",
    "os.makedirs(output_dir, exist_ok=True)"
   ]
  },
  {
   "cell_type": "markdown",
   "metadata": {},
   "source": [
    "Here users can specify `keep_celltype` and `keep_tissueregion` in arguments to filter to only keep specific cell types or tissue regions in the output results. # Empty string \"\" means keep all cell types or tissue regions."
   ]
  },
  {
   "cell_type": "code",
   "execution_count": 4,
   "metadata": {},
   "outputs": [],
   "source": [
    "args = edict(dict(output_save_dir=output_dir, \n",
    "                  keep_celltype=\"\", \n",
    "                  keep_tissueregion=\"\", \n",
    "                  use_llm_gene_embedding=\"false\", \n",
    "                  pretrain_model_path=\"\"))"
   ]
  },
  {
   "cell_type": "code",
   "execution_count": null,
   "metadata": {},
   "outputs": [],
   "source": [
    "setup_logging(args.output_save_dir)\n",
    "\n",
    "arg_dict = vars(args)\n",
    "dict_pd = {}\n",
    "for keys in arg_dict.keys():\n",
    "    dict_pd[keys] = [arg_dict[keys]]\n",
    "pd.DataFrame(dict_pd).to_csv(args.output_save_dir  + \"config.csv\", index=False)\n",
    "logging.info(\"\\n\\n\\033[95mArguments:\\033[0m \\n%s\\n\\n\", vars(args))\n",
    "logging.info(\"\\n\\n\\033[95mArguments:\\033[0m \\n%s\\n\\n\", vars(ModelType))"
   ]
  },
  {
   "cell_type": "markdown",
   "metadata": {},
   "source": [
    "FuseMap requires both gene expression data and spatial coordinates for each cell/spot as input. The spatial coordinates should be specified in the AnnData object's observation (obs) dataframe with columns \"x\" and \"y\".\n",
    "\n",
    "For spatial transcriptomics data, the coordinates may be stored in different formats:\n",
    "- As \"row\"/\"col\" columns in `data.obs`\n",
    "- As spatial coordinates in `data.obsm[\"spatial\"]` \n",
    "- Directly as \"x\"/\"y\" columns in `data.obs`\n",
    "\n",
    "The code below handles these different formats and standardizes them to \"x\"/\"y\" columns in `data.obs`. This standardization is important for FuseMap to properly integrate the spatial information across datasets."
   ]
  },
  {
   "cell_type": "code",
   "execution_count": null,
   "metadata": {},
   "outputs": [],
   "source": [
    "X_input = []\n",
    "for ind, data_dir in enumerate(data_dir_list):\n",
    "    print(f\"Loading {data_dir}\")\n",
    "    data = sc.read_h5ad(data_dir)    \n",
    "    # Handle spatial coordinates\n",
    "    if \"x\" not in data.obs.columns:\n",
    "        if \"col\" in data.obs.columns and \"row\" in X.obs.columns:\n",
    "            data.obs[\"x\"] = data.obs[\"col\"]\n",
    "            data.obs[\"y\"] = data.obs[\"row\"]\n",
    "        elif \"spatial\" in data.obsm.keys():\n",
    "            data.obs[\"x\"] = data.obsm[\"spatial\"][:,0]\n",
    "            data.obs[\"y\"] = data.obsm[\"spatial\"][:,1]\n",
    "        else:\n",
    "            raise ValueError(f\"Please provide spatial coordinates in the obs['x'] and obs['y'] columns for {data_dir}\")\n",
    "    \n",
    "    # Add metadata\n",
    "    data.obs['name'] = f'section{ind}'\n",
    "    data.obs['file_name'] = os.path.basename(data_dir)\n",
    "    print(f\"Loaded {data.shape[0]} cells with {data.shape[1]} genes from {data.obs['file_name'].iloc[0]}\")\n",
    "    X_input.append(data)\n",
    "    \n",
    "# Set parameters for integration\n",
    "kneighbor = [\"delaunay\"] * len(X_input)\n",
    "input_identity = [\"ST\"] * len(X_input)\n",
    "print(f\"Loaded {len(X_input)} datasets\")"
   ]
  },
  {
   "cell_type": "markdown",
   "metadata": {},
   "source": [
    "## 3. Data integration"
   ]
  },
  {
   "cell_type": "code",
   "execution_count": null,
   "metadata": {},
   "outputs": [],
   "source": [
    "spatial_integrate(X_input, args, kneighbor, input_identity)"
   ]
  },
  {
   "cell_type": "markdown",
   "metadata": {},
   "source": [
    "## 4. Visualization"
   ]
  },
  {
   "cell_type": "markdown",
   "metadata": {},
   "source": [
    "### read single-cell embedding"
   ]
  },
  {
   "cell_type": "code",
   "execution_count": null,
   "metadata": {},
   "outputs": [],
   "source": [
    "ad_embed=sc.read_h5ad(os.path.join(output_dir, 'ad_celltype_embedding.h5ad'))\n",
    "sc.pp.neighbors(ad_embed, n_neighbors=50,use_rep='X')\n",
    "sc.tl.umap(ad_embed)\n",
    "ax = sc.pl.umap(ad_embed,color='batch',size=1, show=False)\n",
    "ax.set_title('Single-cell embedding, colored by sample ID')"
   ]
  },
  {
   "cell_type": "markdown",
   "metadata": {},
   "source": [
    "### read spatial embedding"
   ]
  },
  {
   "cell_type": "code",
   "execution_count": null,
   "metadata": {},
   "outputs": [],
   "source": [
    "ad_embed=sc.read_h5ad(os.path.join(output_dir, 'ad_tissueregion_embedding.h5ad'))\n",
    "sc.pp.neighbors(ad_embed, n_neighbors=50,use_rep='X')\n",
    "sc.tl.umap(ad_embed)\n",
    "ax = sc.pl.umap(ad_embed,color='batch',size=1, show=False)\n",
    "ax.set_title('Spatial embedding, colored by sample ID')"
   ]
  },
  {
   "cell_type": "markdown",
   "metadata": {},
   "source": [
    "### read gene embedding"
   ]
  },
  {
   "cell_type": "code",
   "execution_count": null,
   "metadata": {},
   "outputs": [],
   "source": [
    "ad_embed=sc.read_h5ad(os.path.join(output_dir, 'ad_gene_embedding.h5ad'))\n",
    "sc.pp.neighbors(ad_embed, n_neighbors=50,use_rep='X')\n",
    "sc.tl.umap(ad_embed)\n",
    "ax = sc.pl.umap(ad_embed,color='type', size=100,show=False)\n",
    "ax.set_title('Gene embedding, colored by sample ID')"
   ]
  }
 ],
 "metadata": {
  "kernelspec": {
   "display_name": "initial",
   "language": "python",
   "name": "python3"
  },
  "language_info": {
   "codemirror_mode": {
    "name": "ipython",
    "version": 3
   },
   "file_extension": ".py",
   "mimetype": "text/x-python",
   "name": "python",
   "nbconvert_exporter": "python",
   "pygments_lexer": "ipython3",
   "version": "3.10.14"
  }
 },
 "nbformat": 4,
 "nbformat_minor": 2
}
