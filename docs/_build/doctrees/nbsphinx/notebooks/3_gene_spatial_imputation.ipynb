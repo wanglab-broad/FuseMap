{
 "cells": [
  {
   "cell_type": "markdown",
   "metadata": {},
   "source": [
    "# FuseMap Tutorial III: Gene Spatial Imputation\n",
    "\n",
    "This tutorial demonstrates how to perform spatial imputation of unmeasured genes after integrating datasets using FuseMap. We'll use a pre-trained FuseMap gene embedding model to impute the expression of ABCC9 gene on MERFISH data."
   ]
  },
  {
   "cell_type": "code",
   "execution_count": 1,
   "metadata": {},
   "outputs": [],
   "source": [
    "import warnings\n",
    "warnings.filterwarnings('ignore')"
   ]
  },
  {
   "cell_type": "code",
   "execution_count": null,
   "metadata": {},
   "outputs": [],
   "source": [
    "import os\n",
    "import scanpy as sc\n",
    "import numpy as np\n",
    "import scipy\n",
    "from scipy import stats"
   ]
  },
  {
   "cell_type": "markdown",
   "metadata": {},
   "source": [
    "### 1. Load the pre-trained gene embeddings and cell embeddings"
   ]
  },
  {
   "cell_type": "code",
   "execution_count": 3,
   "metadata": {},
   "outputs": [],
   "source": [
    "# Define the gene we want to impute and the dataset\n",
    "target_gene = 'ABCC9'\n",
    "dataset = 'merfish'\n",
    "\n",
    "# Set paths to pre-trained model outputs\n",
    "save_dir = f\"/Users/mingzeyuan/Workspace/fusemap_deconvolution/raw_data/rerun_version3_impt_{dataset}_{target_gene}/\"\n",
    "# Load pre-trained gene embeddings and transfer cell type annotations\n",
    "celltype_all = sc.read_h5ad(os.path.join(save_dir, \"transfer_celltype.h5ad\"))\n",
    "gene_embed = sc.read_h5ad(os.path.join(save_dir, \"ad_gene_embedding.h5ad\"))"
   ]
  },
  {
   "cell_type": "markdown",
   "metadata": {},
   "source": [
    "### 2. Gene imputation\n",
    "Based on FuseMap's mechanism, we can simply get spatial gene imputation by multiplying cell type embeddings with gene embeddings"
   ]
  },
  {
   "cell_type": "code",
   "execution_count": null,
   "metadata": {},
   "outputs": [],
   "source": [
    "# Get cell type annotations for our dataset\n",
    "celltype_data = celltype_all[celltype_all.obs['name']==dataset]\n",
    "\n",
    "# Project spatial data into gene embedding space\n",
    "spatial_gene_proj = celltype_data.X @ gene_embed.X.T\n",
    "print(celltype_data.shape, gene_embed.shape, spatial_gene_proj.shape)"
   ]
  },
  {
   "cell_type": "markdown",
   "metadata": {},
   "source": [
    "### 3. Evaluate spatial gene imputation"
   ]
  },
  {
   "cell_type": "code",
   "execution_count": null,
   "metadata": {},
   "outputs": [],
   "source": [
    "# Load and preprocess spatial data\n",
    "spatial_data = sc.read_h5ad(f'/Users/mingzeyuan/Workspace/FuseMap/data/{dataset}.h5ad')\n",
    "sc.pp.normalize_total(spatial_data)\n",
    "sc.pp.log1p(spatial_data)\n",
    "sc.pp.scale(spatial_data, zero_center=False, max_value=10)\n",
    "\n",
    "# Extract measured and imputed expression for target gene\n",
    "measured_expr = spatial_data.X[:,np.where(spatial_data.var.index==target_gene)[0][0]]\n",
    "imputed_expr = spatial_gene_proj[:,np.where(gene_embed.obs.index==target_gene)[0][0]]\n",
    "\n",
    "# Convert sparse matrices to dense if needed\n",
    "if scipy.sparse.isspmatrix(measured_expr):\n",
    "    measured_expr = measured_expr.toarray().flatten()\n",
    "if scipy.sparse.isspmatrix(imputed_expr):\n",
    "    imputed_expr = imputed_expr.toarray().flatten()\n",
    "\n",
    "# Calculate correlation between measured and imputed expression\n",
    "correlation = stats.pearsonr(measured_expr, imputed_expr)[0]\n",
    "print(f\"Correlation between measured and imputed {target_gene}: {correlation:.3f}\")"
   ]
  }
 ],
 "metadata": {
  "kernelspec": {
   "display_name": "initial",
   "language": "python",
   "name": "python3"
  },
  "language_info": {
   "codemirror_mode": {
    "name": "ipython",
    "version": 3
   },
   "file_extension": ".py",
   "mimetype": "text/x-python",
   "name": "python",
   "nbconvert_exporter": "python",
   "pygments_lexer": "ipython3",
   "version": "3.10.14"
  }
 },
 "nbformat": 4,
 "nbformat_minor": 2
}
