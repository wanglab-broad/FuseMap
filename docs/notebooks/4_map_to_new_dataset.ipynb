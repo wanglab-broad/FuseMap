{
 "cells": [
  {
   "cell_type": "markdown",
   "metadata": {},
   "source": [
    "# FuseMap Tutorial IV: Mapping to new datasets"
   ]
  },
  {
   "cell_type": "markdown",
   "metadata": {},
   "source": [
    "In this tutorial, we will demonstrate how to map new spatial transcriptomics data to an existing FuseMap integration. This is useful when you want to analyze new samples in the context of previously integrated datasets.\n",
    "\n",
    "FuseMap provides functionality to project new data points into the same latent space as the reference integration, allowing you to:\n",
    "\n",
    "1. Compare new samples to existing integrated data\n",
    "2. Transfer annotations and insights from the reference to new data\n",
    "3. Analyze spatial patterns across old and new datasets together\n",
    "\n",
    "We use the integrated model trained on merfish and starmap, and then transfer the model to slideseq.\n",
    "\n",
    "- MERFISH data: Zhang et al. [Nature paper](https://www.nature.com/articles/s41586-023-06808-9#data-availability)\n",
    "- STARmap data: Shi et al., [Nature paper](https://www.nature.com/articles/s41586-023-06569-5#data-availability)\n",
    "- Slide-seq data: Langlieb et al., [Nature paper](https://www.nature.com/articles/s41586-023-06818-7#data-availability)"
   ]
  },
  {
   "cell_type": "markdown",
   "metadata": {},
   "source": [
    "### 1. Define arguments"
   ]
  },
  {
   "cell_type": "code",
   "execution_count": null,
   "metadata": {},
   "outputs": [],
   "source": [
    "import warnings\n",
    "warnings.filterwarnings(\"ignore\")"
   ]
  },
  {
   "cell_type": "code",
   "execution_count": null,
   "metadata": {},
   "outputs": [],
   "source": [
    "import os\n",
    "import scanpy as sc\n",
    "from easydict import EasyDict as edict\n",
    "from fusemap import seed_all, spatial_map\n",
    "import copy\n",
    "seed_all(0)"
   ]
  },
  {
   "cell_type": "code",
   "execution_count": null,
   "metadata": {},
   "outputs": [],
   "source": [
    "pretrain_model_path = \"/Users/mingzeyuan/Workspace/FuseMap/output/integrate_merfish_starmap\"\n",
    "output_save_dir = \"/Users/mingzeyuan/Workspace/FuseMap/output/map_slideseq\"\n",
    "args = edict(dict(pretrain_model_path=pretrain_model_path, output_save_dir=output_save_dir))\n",
    "data_dir_list = [\"/Users/mingzeyuan/Workspace/FuseMap/data/slideseq_Puck34.h5ad\"]"
   ]
  },
  {
   "cell_type": "markdown",
   "metadata": {},
   "source": [
    "### 2. Data loading and pre-processing"
   ]
  },
  {
   "cell_type": "code",
   "execution_count": null,
   "metadata": {},
   "outputs": [],
   "source": [
    "X_input = []\n",
    "for ind, data_dir in enumerate(data_dir_list):\n",
    "    print(f\"Loading {data_dir}\")\n",
    "    data = sc.read_h5ad(data_dir)    \n",
    "    # Handle spatial coordinates\n",
    "    if \"x\" not in data.obs.columns:\n",
    "        if \"col\" in data.obs.columns and \"row\" in X.obs.columns:\n",
    "            data.obs[\"x\"] = data.obs[\"col\"]\n",
    "            data.obs[\"y\"] = data.obs[\"row\"]\n",
    "        elif \"spatial\" in data.obsm.keys():\n",
    "            data.obs[\"x\"] = data.obsm[\"spatial\"][:,0]\n",
    "            data.obs[\"y\"] = data.obsm[\"spatial\"][:,1]\n",
    "        else:\n",
    "            raise ValueError(f\"Please provide spatial coordinates in the obs['x'] and obs['y'] columns for {data_dir}\")\n",
    "    \n",
    "    # Add metadata\n",
    "    data.obs['name'] = f'section{ind}'\n",
    "    data.obs['file_name'] = os.path.basename(data_dir)\n",
    "    print(f\"Loaded {data.shape[0]} cells with {data.shape[1]} genes from {data.obs['file_name'].iloc[0]}\")\n",
    "    X_input.append(data)\n",
    "    \n",
    "# Set parameters for integration\n",
    "kneighbor = [\"delaunay\"] * len(X_input)\n",
    "input_identity = [\"ST\"] * len(X_input)\n",
    "print(f\"Loaded {len(X_input)} datasets\")"
   ]
  },
  {
   "cell_type": "markdown",
   "metadata": {},
   "source": [
    "### 3. Mapping fusemap to new datasets"
   ]
  },
  {
   "cell_type": "code",
   "execution_count": null,
   "metadata": {},
   "outputs": [],
   "source": [
    "for i in range(len(X_input)):\n",
    "    args_i=copy.copy(args)\n",
    "    args_i.output_save_dir = os.path.join(args.output_save_dir, X_input[i].obs['file_name'].unique()[0])\n",
    "    spatial_map([X_input[i]], args_i, [kneighbor[i]], [input_identity[i]])   "
   ]
  }
 ],
 "metadata": {
  "kernelspec": {
   "display_name": "initial",
   "language": "python",
   "name": "python3"
  },
  "language_info": {
   "codemirror_mode": {
    "name": "ipython",
    "version": 3
   },
   "file_extension": ".py",
   "mimetype": "text/x-python",
   "name": "python",
   "nbconvert_exporter": "python",
   "pygments_lexer": "ipython3",
   "version": "3.10.14"
  }
 },
 "nbformat": 4,
 "nbformat_minor": 2
}
